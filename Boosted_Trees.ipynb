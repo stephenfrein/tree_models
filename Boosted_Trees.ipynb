{
  "nbformat": 4,
  "nbformat_minor": 0,
  "metadata": {
    "colab": {
      "name": "Boosted_Trees.ipynb",
      "provenance": [],
      "private_outputs": true,
      "authorship_tag": "ABX9TyP3rEMU7OR6rA3KsVJYJpzj",
      "include_colab_link": true
    },
    "kernelspec": {
      "name": "python3",
      "display_name": "Python 3"
    }
  },
  "cells": [
    {
      "cell_type": "markdown",
      "metadata": {
        "id": "view-in-github",
        "colab_type": "text"
      },
      "source": [
        "<a href=\"https://colab.research.google.com/github/stephenfrein/tree_models/blob/master/Boosted_Trees.ipynb\" target=\"_parent\"><img src=\"https://colab.research.google.com/assets/colab-badge.svg\" alt=\"Open In Colab\"/></a>"
      ]
    },
    {
      "cell_type": "markdown",
      "metadata": {
        "id": "q2Xi_CwOpoOi",
        "colab_type": "text"
      },
      "source": [
        "# Boosted Trees\n",
        "\n",
        "Now we'll use boosted decision trees to analyze a famous data set, the Pima Diabetes data."
      ]
    },
    {
      "cell_type": "code",
      "metadata": {
        "id": "52SO8g0xIms6",
        "colab_type": "code",
        "colab": {}
      },
      "source": [
        "import pandas as pd\n",
        "from sklearn.model_selection import train_test_split\n",
        "from sklearn import metrics\n",
        "from xgboost import XGBClassifier\n",
        "# get Pima data set and examine it\n",
        "url = 'https://query.data.world/s/4zv4vc2itsj3aaf2ge67urxkss553o'\n",
        "pima_diabetes = pd.read_csv(url)\n",
        "pima_diabetes.head(n=10)"
      ],
      "execution_count": null,
      "outputs": []
    },
    {
      "cell_type": "code",
      "metadata": {
        "id": "A2nI72pLLY4T",
        "colab_type": "code",
        "colab": {}
      },
      "source": [
        "pima_diabetes.describe()"
      ],
      "execution_count": null,
      "outputs": []
    },
    {
      "cell_type": "code",
      "metadata": {
        "id": "gD_RqgiqKTxb",
        "colab_type": "code",
        "colab": {}
      },
      "source": [
        "# predictor variables - all but column called Outcome\n",
        "X = pima_diabetes.drop(\"Outcome\",1)\n",
        "# target variable\n",
        "y = pima_diabetes[\"Outcome\"]\n",
        "# creat test and training sets - 20% test\n",
        "X_train, X_test, y_train, y_test = train_test_split(X, y, test_size=0.2, random_state=123)"
      ],
      "execution_count": null,
      "outputs": []
    },
    {
      "cell_type": "code",
      "metadata": {
        "id": "GRFyAkaoOiZ7",
        "colab_type": "code",
        "colab": {}
      },
      "source": [
        "# decision tree classifier with max depth to avoid overfitting\n",
        "from sklearn.tree import DecisionTreeClassifier\n",
        "simple_tree = DecisionTreeClassifier(max_depth=3, criterion='gini')\n",
        "# train decision tree classifer\n",
        "simple_tree = simple_tree.fit(X_train,y_train)\n",
        "y_pred=simple_tree.predict(X_test)\n",
        "# how many were classified correctly\n",
        "print(\"Simple Tree Accuracy:\", metrics.accuracy_score(y_test, y_pred))"
      ],
      "execution_count": null,
      "outputs": []
    },
    {
      "cell_type": "code",
      "metadata": {
        "id": "KHBUPk5aOBvp",
        "colab_type": "code",
        "colab": {}
      },
      "source": [
        "## random forest approach\n",
        "from sklearn.ensemble import RandomForestClassifier\n",
        "# create new classifier - 500 trees with max depth of 3 per tree\n",
        "rf=RandomForestClassifier(n_estimators=500, max_depth=3)\n",
        "# train the model\n",
        "rf.fit(X_train,y_train)\n",
        "# predict the response for test dataset\n",
        "y_pred=rf.predict(X_test)\n",
        "# how many were classified correctly\n",
        "print(\"Random Forest Accuracy:\", metrics.accuracy_score(y_test, y_pred))"
      ],
      "execution_count": null,
      "outputs": []
    },
    {
      "cell_type": "code",
      "metadata": {
        "id": "BTioHrCoMBLv",
        "colab_type": "code",
        "colab": {}
      },
      "source": [
        "# now try boosted trees\n",
        "boosted_tree_model = XGBClassifier()\n",
        "boosted_tree_model.fit(X_train, y_train)\n",
        "# predictions for test data\n",
        "y_pred = boosted_tree_model.predict(X_test)\n",
        "# evaluate predictions\n",
        "print(\"Boosted Trees Accuracy:\", metrics.accuracy_score(y_test, y_pred))"
      ],
      "execution_count": null,
      "outputs": []
    },
    {
      "cell_type": "code",
      "metadata": {
        "id": "FfY3g88KTXC7",
        "colab_type": "code",
        "colab": {}
      },
      "source": [
        "# XGBoost defaults to 100 trees - would adding more help?\n",
        "# add evaluation set with early stopping if model isn't improving - verbose output so we can see improvement\n",
        "eval_set = [(X_test, y_test)]\n",
        "boosted_tree_model.fit(X_train, y_train, early_stopping_rounds=10, eval_metric=\"logloss\", eval_set=eval_set, verbose=True)\n",
        "# predictions for test data\n",
        "y_pred = boosted_tree_model.predict(X_test)\n",
        "# evaluate predictions\n",
        "print(\"Boosted Trees Accuracy:\", metrics.accuracy_score(y_test, y_pred))"
      ],
      "execution_count": null,
      "outputs": []
    },
    {
      "cell_type": "code",
      "metadata": {
        "id": "R7I2EGfCyxHQ",
        "colab_type": "code",
        "colab": {}
      },
      "source": [
        "# try different numbers of \"rounds\" (trees added)\n",
        "boosted_tree_model = XGBClassifier(n_estimators=50)\n",
        "boosted_tree_model.fit(X_train, y_train)\n",
        "# predictions for test data\n",
        "y_pred = boosted_tree_model.predict(X_test)\n",
        "# evaluate predictions\n",
        "print(\"Boosted Trees Accuracy:\", metrics.accuracy_score(y_test, y_pred))"
      ],
      "execution_count": null,
      "outputs": []
    },
    {
      "cell_type": "code",
      "metadata": {
        "id": "DPRti2-PgRV8",
        "colab_type": "code",
        "colab": {}
      },
      "source": [
        "# what features are most important?\n",
        "from xgboost import plot_importance\n",
        "from matplotlib import pyplot\n",
        "plot_importance(boosted_tree_model)\n",
        "pyplot.show()"
      ],
      "execution_count": null,
      "outputs": []
    },
    {
      "cell_type": "markdown",
      "metadata": {
        "id": "zXhU5ZJMpmwv",
        "colab_type": "text"
      },
      "source": [
        "# Exercise #4\n",
        "\n",
        "Try to improve your performance on the IMDB data set using boosted decision trees."
      ]
    },
    {
      "cell_type": "code",
      "metadata": {
        "id": "DzD4IxJ-qaJC",
        "colab_type": "code",
        "colab": {}
      },
      "source": [
        "# enjoy"
      ],
      "execution_count": null,
      "outputs": []
    }
  ]
}