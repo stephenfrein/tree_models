{
  "nbformat": 4,
  "nbformat_minor": 0,
  "metadata": {
    "colab": {
      "name": "Random_Forests.ipynb",
      "provenance": [],
      "authorship_tag": "ABX9TyOmVB/u25WdcAZqxH/ZtziV",
      "include_colab_link": true
    },
    "kernelspec": {
      "name": "python3",
      "display_name": "Python 3"
    }
  },
  "cells": [
    {
      "cell_type": "markdown",
      "metadata": {
        "id": "view-in-github",
        "colab_type": "text"
      },
      "source": [
        "<a href=\"https://colab.research.google.com/github/stephenfrein/tree_models/blob/master/Random_Forests.ipynb\" target=\"_parent\"><img src=\"https://colab.research.google.com/assets/colab-badge.svg\" alt=\"Open In Colab\"/></a>"
      ]
    },
    {
      "cell_type": "code",
      "metadata": {
        "id": "elZC5uojadE0",
        "colab_type": "code",
        "colab": {
          "base_uri": "https://localhost:8080/",
          "height": 71
        },
        "outputId": "7dd67d55-4755-4419-908f-52d859580031"
      },
      "source": [
        "# same setup from our last example\n",
        "\n",
        "# modules we will need\n",
        "import matplotlib.pyplot as plt\n",
        "import pandas as pd\n",
        "from sklearn import metrics\n",
        "from sklearn import tree\n",
        "from sklearn.model_selection import train_test_split\n",
        "from sklearn.tree import DecisionTreeClassifier\n",
        "from sklearn.tree.export import export_text\n",
        "\n",
        "# get raw data and put in data frame\n",
        "url = \"https://drive.google.com/uc?export=download&id=1Okb4RuShkQ0-dxMj0xeBWnrmq1uIsuOw\"\n",
        "cars_raw = pd.read_csv(url)\n",
        "cars_raw.head(n=10)\n",
        "\n",
        "# create a separate copy - usually need to massage the data\n",
        "cars_clean = cars_raw.copy()\n",
        "\n",
        "# one-hot encode character variables\n",
        "cars_clean = pd.get_dummies(cars_clean,columns=[\"purchase_cost\",\"maint_cost\",\"trunk_size\",\"safety_rating\"])\n",
        "# drop na (null values)\n",
        "cars_clean = cars_clean.dropna()\n",
        "\n",
        "# predictor variables - all but column called acceptability\n",
        "X = cars_clean.drop(\"acceptability\",1)\n",
        "# target variable\n",
        "y = cars_clean[\"acceptability\"]\n",
        "\n",
        "# split into training (70%) and test (30%) sets with seed value for reproducibiity\n",
        "X_train, X_test, y_train, y_test = train_test_split(X, y, test_size=0.3, random_state=123)"
      ],
      "execution_count": 1,
      "outputs": [
        {
          "output_type": "stream",
          "text": [
            "/usr/local/lib/python3.6/dist-packages/sklearn/utils/deprecation.py:144: FutureWarning: The sklearn.tree.export module is  deprecated in version 0.22 and will be removed in version 0.24. The corresponding classes / functions should instead be imported from sklearn.tree. Anything that cannot be imported from sklearn.tree is now part of the private API.\n",
            "  warnings.warn(message, FutureWarning)\n"
          ],
          "name": "stderr"
        }
      ]
    },
    {
      "cell_type": "code",
      "metadata": {
        "id": "RMwL6mwQbZRe",
        "colab_type": "code",
        "colab": {
          "base_uri": "https://localhost:8080/",
          "height": 34
        },
        "outputId": "0e01020a-7b1b-4d55-d569-9506e3ff2715"
      },
      "source": [
        "## random forest approach\n",
        "from sklearn.ensemble import RandomForestClassifier\n",
        "# create new classifier - 100 trees with max depth of 3 per tree\n",
        "rf=RandomForestClassifier(n_estimators=500, max_depth=3)\n",
        "# train the model\n",
        "rf.fit(X_train,y_train)\n",
        "# predict the response for test dataset\n",
        "y_pred=rf.predict(X_test)\n",
        "# how many were classified correctly\n",
        "print(\"Random Forest Accuracy:\", metrics.accuracy_score(y_test, y_pred))\n",
        "\n"
      ],
      "execution_count": 3,
      "outputs": [
        {
          "output_type": "stream",
          "text": [
            "Random Forest Accuracy: 0.8978805394990366\n"
          ],
          "name": "stdout"
        }
      ]
    },
    {
      "cell_type": "code",
      "metadata": {
        "id": "Okc58gzgb9nk",
        "colab_type": "code",
        "colab": {
          "base_uri": "https://localhost:8080/",
          "height": 34
        },
        "outputId": "352e08a3-bdc5-417c-b281-a15d9d4ef841"
      },
      "source": [
        "# precision - when we said a car would be acceptable, how often were we right\n",
        "print(\"Precision:\",metrics.precision_score(y_test, y_pred, pos_label=\"acc\"))"
      ],
      "execution_count": 4,
      "outputs": [
        {
          "output_type": "stream",
          "text": [
            "Precision: 0.957983193277311\n"
          ],
          "name": "stdout"
        }
      ]
    },
    {
      "cell_type": "code",
      "metadata": {
        "id": "MqZrBAdfcIyd",
        "colab_type": "code",
        "colab": {
          "base_uri": "https://localhost:8080/",
          "height": 34
        },
        "outputId": "3550deac-366d-4da2-a4eb-fcbca37d6ac7"
      },
      "source": [
        "# recall - what % of the ultimately acceptable cars did we find\n",
        "print(\"Recall:\",metrics.recall_score(y_test, y_pred, pos_label=\"acc\"))"
      ],
      "execution_count": 5,
      "outputs": [
        {
          "output_type": "stream",
          "text": [
            "Recall: 0.7037037037037037\n"
          ],
          "name": "stdout"
        }
      ]
    },
    {
      "cell_type": "code",
      "metadata": {
        "id": "4niOVAxCcUm5",
        "colab_type": "code",
        "colab": {
          "base_uri": "https://localhost:8080/",
          "height": 34
        },
        "outputId": "cddd1fcb-c16d-483e-d9c7-b87856cf9f5f"
      },
      "source": [
        "# F1  is harmonic mean of precision and recall - an \"average\" that is weighted toward the lower number\n",
        "print(\"F1 Score:\",metrics.f1_score(y_test, y_pred, pos_label=\"acc\"))"
      ],
      "execution_count": 6,
      "outputs": [
        {
          "output_type": "stream",
          "text": [
            "F1 Score: 0.8113879003558718\n"
          ],
          "name": "stdout"
        }
      ]
    },
    {
      "cell_type": "code",
      "metadata": {
        "id": "A_g0eNp0cFsn",
        "colab_type": "code",
        "colab": {
          "base_uri": "https://localhost:8080/",
          "height": 306
        },
        "outputId": "06ce53da-ca79-478b-abe7-7afa6d3387c6"
      },
      "source": [
        "# which features are most important?\n",
        "feature_importances = pd.DataFrame(rf.feature_importances_,\n",
        "                                   index = X_train.columns,\n",
        "                                   columns=['importance']).sort_values('importance', ascending=False)\n",
        "print(feature_importances)"
      ],
      "execution_count": 7,
      "outputs": [
        {
          "output_type": "stream",
          "text": [
            "                     importance\n",
            "num_persons            0.345595\n",
            "safety_rating_low      0.269042\n",
            "safety_rating_high     0.129530\n",
            "safety_rating_med      0.062430\n",
            "maint_cost_vhigh       0.058877\n",
            "purchase_cost_vhigh    0.044186\n",
            "trunk_size_small       0.017963\n",
            "maint_cost_low         0.013689\n",
            "purchase_cost_low      0.013494\n",
            "purchase_cost_med      0.012130\n",
            "trunk_size_big         0.010741\n",
            "maint_cost_med         0.009489\n",
            "purchase_cost_high     0.005756\n",
            "maint_cost_high        0.003866\n",
            "num_doors              0.002759\n",
            "trunk_size_med         0.000452\n"
          ],
          "name": "stdout"
        }
      ]
    },
    {
      "cell_type": "markdown",
      "metadata": {
        "id": "rseYSneAdA-I",
        "colab_type": "text"
      },
      "source": [
        "# Exercise #3\n",
        "\n",
        "Rebuild your IMDB model as a random forest and see if you can improve its performance.\n",
        "\n",
        "What were the most important variables in your model?"
      ]
    },
    {
      "cell_type": "code",
      "metadata": {
        "id": "Dh7wXCTxdX1q",
        "colab_type": "code",
        "colab": {}
      },
      "source": [
        "# enjoy!\n"
      ],
      "execution_count": null,
      "outputs": []
    }
  ]
}