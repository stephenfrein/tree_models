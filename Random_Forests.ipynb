{
  "nbformat": 4,
  "nbformat_minor": 0,
  "metadata": {
    "colab": {
      "name": "Random_Forests.ipynb",
      "provenance": [],
      "private_outputs": true,
      "authorship_tag": "ABX9TyOmVB/u25WdcAZqxH/ZtziV",
      "include_colab_link": true
    },
    "kernelspec": {
      "name": "python3",
      "display_name": "Python 3"
    }
  },
  "cells": [
    {
      "cell_type": "markdown",
      "metadata": {
        "id": "view-in-github",
        "colab_type": "text"
      },
      "source": [
        "<a href=\"https://colab.research.google.com/github/stephenfrein/tree_models/blob/master/Random_Forests.ipynb\" target=\"_parent\"><img src=\"https://colab.research.google.com/assets/colab-badge.svg\" alt=\"Open In Colab\"/></a>"
      ]
    },
    {
      "cell_type": "code",
      "metadata": {
        "id": "elZC5uojadE0",
        "colab_type": "code",
        "colab": {}
      },
      "source": [
        "# same setup from our last example\n",
        "\n",
        "# modules we will need\n",
        "import matplotlib.pyplot as plt\n",
        "import pandas as pd\n",
        "from sklearn import metrics\n",
        "from sklearn import tree\n",
        "from sklearn.model_selection import train_test_split\n",
        "from sklearn.tree import DecisionTreeClassifier\n",
        "from sklearn.tree.export import export_text\n",
        "\n",
        "# get raw data and put in data frame\n",
        "url = \"https://drive.google.com/uc?export=download&id=1Okb4RuShkQ0-dxMj0xeBWnrmq1uIsuOw\"\n",
        "cars_raw = pd.read_csv(url)\n",
        "cars_raw.head(n=10)\n",
        "\n",
        "# create a separate copy - usually need to massage the data\n",
        "cars_clean = cars_raw.copy()\n",
        "\n",
        "# one-hot encode character variables\n",
        "cars_clean = pd.get_dummies(cars_clean,columns=[\"purchase_cost\",\"maint_cost\",\"trunk_size\",\"safety_rating\"])\n",
        "# drop na (null values)\n",
        "cars_clean = cars_clean.dropna()\n",
        "\n",
        "# predictor variables - all but column called acceptability\n",
        "X = cars_clean.drop(\"acceptability\",1)\n",
        "# target variable\n",
        "y = cars_clean[\"acceptability\"]\n",
        "\n",
        "# split into training (70%) and test (30%) sets with seed value for reproducibiity\n",
        "X_train, X_test, y_train, y_test = train_test_split(X, y, test_size=0.3, random_state=123)"
      ],
      "execution_count": null,
      "outputs": []
    },
    {
      "cell_type": "code",
      "metadata": {
        "id": "RMwL6mwQbZRe",
        "colab_type": "code",
        "colab": {}
      },
      "source": [
        "## random forest approach\n",
        "from sklearn.ensemble import RandomForestClassifier\n",
        "# create new classifier - 100 trees with max depth of 3 per tree\n",
        "rf=RandomForestClassifier(n_estimators=500, max_depth=3)\n",
        "# train the model\n",
        "rf.fit(X_train,y_train)\n",
        "# predict the response for test dataset\n",
        "y_pred=rf.predict(X_test)\n",
        "# how many were classified correctly\n",
        "print(\"Random Forest Accuracy:\", metrics.accuracy_score(y_test, y_pred))\n",
        "\n"
      ],
      "execution_count": null,
      "outputs": []
    },
    {
      "cell_type": "code",
      "metadata": {
        "id": "Okc58gzgb9nk",
        "colab_type": "code",
        "colab": {}
      },
      "source": [
        "# precision - when we said a car would be acceptable, how often were we right\n",
        "print(\"Precision:\",metrics.precision_score(y_test, y_pred, pos_label=\"acc\"))"
      ],
      "execution_count": null,
      "outputs": []
    },
    {
      "cell_type": "code",
      "metadata": {
        "id": "MqZrBAdfcIyd",
        "colab_type": "code",
        "colab": {}
      },
      "source": [
        "# recall - what % of the ultimately acceptable cars did we find\n",
        "print(\"Recall:\",metrics.recall_score(y_test, y_pred, pos_label=\"acc\"))"
      ],
      "execution_count": null,
      "outputs": []
    },
    {
      "cell_type": "code",
      "metadata": {
        "id": "4niOVAxCcUm5",
        "colab_type": "code",
        "colab": {}
      },
      "source": [
        "# F1  is harmonic mean of precision and recall - an \"average\" that is weighted toward the lower number\n",
        "print(\"F1 Score:\",metrics.f1_score(y_test, y_pred, pos_label=\"acc\"))"
      ],
      "execution_count": null,
      "outputs": []
    },
    {
      "cell_type": "code",
      "metadata": {
        "id": "A_g0eNp0cFsn",
        "colab_type": "code",
        "colab": {}
      },
      "source": [
        "# which features are most important?\n",
        "feature_importances = pd.DataFrame(rf.feature_importances_,\n",
        "                                   index = X_train.columns,\n",
        "                                   columns=['importance']).sort_values('importance', ascending=False)\n",
        "print(feature_importances)"
      ],
      "execution_count": null,
      "outputs": []
    },
    {
      "cell_type": "markdown",
      "metadata": {
        "id": "rseYSneAdA-I",
        "colab_type": "text"
      },
      "source": [
        "# Exercise #3\n",
        "\n",
        "Rebuild your IMDB model as a random forest and see if you can improve its performance.\n",
        "\n",
        "What were the most important variables in your model?"
      ]
    },
    {
      "cell_type": "code",
      "metadata": {
        "id": "Dh7wXCTxdX1q",
        "colab_type": "code",
        "colab": {}
      },
      "source": [
        "# enjoy!\n"
      ],
      "execution_count": null,
      "outputs": []
    }
  ]
}