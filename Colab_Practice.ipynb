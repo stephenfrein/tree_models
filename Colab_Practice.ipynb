{
  "nbformat": 4,
  "nbformat_minor": 0,
  "metadata": {
    "colab": {
      "name": "Colab_Practice.ipynb",
      "provenance": [],
      "authorship_tag": "ABX9TyP5m4smGf8AGWM5oGbDOnXB",
      "include_colab_link": true
    },
    "kernelspec": {
      "name": "python3",
      "display_name": "Python 3"
    }
  },
  "cells": [
    {
      "cell_type": "markdown",
      "metadata": {
        "id": "view-in-github",
        "colab_type": "text"
      },
      "source": [
        "<a href=\"https://colab.research.google.com/github/stephenfrein/tree_models/blob/master/Colab_Practice.ipynb\" target=\"_parent\"><img src=\"https://colab.research.google.com/assets/colab-badge.svg\" alt=\"Open In Colab\"/></a>"
      ]
    },
    {
      "cell_type": "markdown",
      "metadata": {
        "id": "SE1E3cNFD2d_",
        "colab_type": "text"
      },
      "source": [
        "# Colab Practice\n",
        "\n",
        "This is a Jupyter notebook. It allows you to write and execute Python in your browser.\n",
        "\n",
        "This will help you get used to working in the Colab environment."
      ]
    },
    {
      "cell_type": "markdown",
      "metadata": {
        "id": "bD7ZyTkwERfo",
        "colab_type": "text"
      },
      "source": [
        "# Execute Cells\n",
        "\n",
        "Press the \"play\" buttons below to execute the code in those cells."
      ]
    },
    {
      "cell_type": "code",
      "metadata": {
        "id": "hSiBm5-QEoBu",
        "colab_type": "code",
        "colab": {
          "base_uri": "https://localhost:8080/",
          "height": 34
        },
        "outputId": "e1f349d7-1aed-4e2e-aad9-415a9d9ecffd"
      },
      "source": [
        "print(1 + 1)"
      ],
      "execution_count": 2,
      "outputs": [
        {
          "output_type": "stream",
          "text": [
            "2\n"
          ],
          "name": "stdout"
        }
      ]
    },
    {
      "cell_type": "code",
      "metadata": {
        "id": "pNcLhpteDgBL",
        "colab_type": "code",
        "colab": {
          "base_uri": "https://localhost:8080/",
          "height": 34
        },
        "outputId": "44af03d0-0efd-4742-bf3f-1f5f9b86ed32"
      },
      "source": [
        "1 + 1"
      ],
      "execution_count": 1,
      "outputs": [
        {
          "output_type": "execute_result",
          "data": {
            "text/plain": [
              "2"
            ]
          },
          "metadata": {
            "tags": []
          },
          "execution_count": 1
        }
      ]
    },
    {
      "cell_type": "markdown",
      "metadata": {
        "id": "j6y2x2UmE0x7",
        "colab_type": "text"
      },
      "source": [
        "# Seeing Output\n",
        "\n",
        "By default, there's one output per cell, but you can use *display()* to see multiple outputs."
      ]
    },
    {
      "cell_type": "code",
      "metadata": {
        "id": "JxjIMYYpFHOX",
        "colab_type": "code",
        "colab": {
          "base_uri": "https://localhost:8080/",
          "height": 34
        },
        "outputId": "9b03f464-9c06-4d47-fd0b-abb445739927"
      },
      "source": [
        "# just one output\n",
        "from random import random\n",
        "random()\n",
        "random()"
      ],
      "execution_count": 4,
      "outputs": [
        {
          "output_type": "execute_result",
          "data": {
            "text/plain": [
              "0.5633492978055191"
            ]
          },
          "metadata": {
            "tags": []
          },
          "execution_count": 4
        }
      ]
    },
    {
      "cell_type": "code",
      "metadata": {
        "id": "SkX_2--xFkRS",
        "colab_type": "code",
        "colab": {
          "base_uri": "https://localhost:8080/",
          "height": 51
        },
        "outputId": "33847711-7e82-4fd9-ed38-efca2e83842a"
      },
      "source": [
        "# see both\n",
        "display(random())\n",
        "random()\n",
        "# notice that I didn't have to import this time - above cell already executed"
      ],
      "execution_count": 5,
      "outputs": [
        {
          "output_type": "display_data",
          "data": {
            "text/plain": [
              "0.0944668549958857"
            ]
          },
          "metadata": {
            "tags": []
          }
        },
        {
          "output_type": "execute_result",
          "data": {
            "text/plain": [
              "0.45069630699661045"
            ]
          },
          "metadata": {
            "tags": []
          },
          "execution_count": 5
        }
      ]
    },
    {
      "cell_type": "markdown",
      "metadata": {
        "id": "HaS4EpQLF11J",
        "colab_type": "text"
      },
      "source": [
        "# Add Text and Code\n",
        "\n",
        "Press + Text above to add a new text area and write something in it.\n",
        "\n",
        "Press + Code above to add a new executable cell and write some code in it.\n",
        "\n",
        "Then, swap the order of the two using the context menu at the top right of either cell.\n",
        "\n",
        "Finally, delete the code cell using its context menu."
      ]
    },
    {
      "cell_type": "markdown",
      "metadata": {
        "id": "8nnO9Eu-HZ-3",
        "colab_type": "text"
      },
      "source": [
        "# Bang Out to the OS\n",
        "\n",
        "We can execute commands for the underlying OS (Linux) by \"banging\" out."
      ]
    },
    {
      "cell_type": "code",
      "metadata": {
        "id": "GOKYSD3uHozx",
        "colab_type": "code",
        "colab": {
          "base_uri": "https://localhost:8080/",
          "height": 54
        },
        "outputId": "767d4c9e-3651-4788-80d3-e74e5ba21509"
      },
      "source": [
        "!cat /proc/version"
      ],
      "execution_count": 7,
      "outputs": [
        {
          "output_type": "stream",
          "text": [
            "Linux version 4.19.104+ (chrome-bot@chromeos-ci-legacy-us-central1-b-x32-96-hq3l) (Chromium OS 9.0_pre361749_p20190714-r4 clang version 9.0.0 (/var/cache/chromeos-cache/distfiles/host/egit-src/llvm-project c11de5eada2decd0a495ea02676b6f4838cd54fb) (based on LLVM 9.0.0svn)) #1 SMP Wed Feb 19 05:26:34 PST 2020\n"
          ],
          "name": "stdout"
        }
      ]
    }
  ]
}